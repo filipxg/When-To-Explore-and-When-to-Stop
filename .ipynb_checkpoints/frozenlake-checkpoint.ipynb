{
 "cells": [
  {
   "cell_type": "code",
   "execution_count": 1,
   "metadata": {},
   "outputs": [
    {
     "ename": "ModuleNotFoundError",
     "evalue": "No module named 'gym'",
     "output_type": "error",
     "traceback": [
      "\u001b[1;31m---------------------------------------------------------------------------\u001b[0m",
      "\u001b[1;31mModuleNotFoundError\u001b[0m                       Traceback (most recent call last)",
      "\u001b[1;32m<ipython-input-1-a3e0620dc3a4>\u001b[0m in \u001b[0;36m<module>\u001b[1;34m\u001b[0m\n\u001b[1;32m----> 1\u001b[1;33m \u001b[1;32mimport\u001b[0m \u001b[0mgym\u001b[0m\u001b[1;33m\u001b[0m\u001b[1;33m\u001b[0m\u001b[0m\n\u001b[0m\u001b[0;32m      2\u001b[0m \u001b[1;32mfrom\u001b[0m \u001b[0mgym\u001b[0m \u001b[1;32mimport\u001b[0m \u001b[0mspaces\u001b[0m\u001b[1;33m\u001b[0m\u001b[1;33m\u001b[0m\u001b[0m\n\u001b[0;32m      3\u001b[0m \u001b[1;32mimport\u001b[0m \u001b[0mnumpy\u001b[0m \u001b[1;32mas\u001b[0m \u001b[0mnp\u001b[0m\u001b[1;33m\u001b[0m\u001b[1;33m\u001b[0m\u001b[0m\n\u001b[0;32m      4\u001b[0m \u001b[1;33m\u001b[0m\u001b[0m\n\u001b[0;32m      5\u001b[0m \u001b[1;32mclass\u001b[0m \u001b[0mFrozenLakeEnv\u001b[0m\u001b[1;33m(\u001b[0m\u001b[0mgym\u001b[0m\u001b[1;33m.\u001b[0m\u001b[0mEnv\u001b[0m\u001b[1;33m)\u001b[0m\u001b[1;33m:\u001b[0m\u001b[1;33m\u001b[0m\u001b[1;33m\u001b[0m\u001b[0m\n",
      "\u001b[1;31mModuleNotFoundError\u001b[0m: No module named 'gym'"
     ]
    }
   ],
   "source": [
    "import gym\n",
    "from gym import spaces\n",
    "import numpy as np\n",
    "\n",
    "class FrozenLakeEnv(gym.Env):\n",
    "    def __init__(self, grid):\n",
    "        super(FrozenLakeEnv, self).__init__()\n",
    "        self.grid = grid\n",
    "        self.grid_size = len(grid)\n",
    "        self.action_space = spaces.Discrete(4)  #Left, Down, Right, Up\n",
    "        self.observation_space = spaces.Discrete(self.grid_size ** 2)\n",
    "\n",
    "    def reset(self):\n",
    "        self.state = (0, 0)\n",
    "        return self.to_observation(self.state)\n",
    "\n",
    "    def step(self, action):\n",
    "        r, c = self.state\n",
    "\n",
    "        # left = 0,\n",
    "        # down = 1,\n",
    "        # right = 2,\n",
    "        # up = 3\n",
    "        if action == 0 and c > 0:\n",
    "            c -= 1\n",
    "        elif action == 1 and r < self.grid_size - 1:\n",
    "            r += 1\n",
    "        elif action == 2 and c < self.grid_size - 1:\n",
    "            c += 1\n",
    "        elif action == 3 and r > 0:\n",
    "            r -= 1\n",
    "\n",
    "        self.state = (r, c)\n",
    "        reward = -0.1\n",
    "        done = False\n",
    "\n",
    "        # Check state of the cell\n",
    "        if self.grid[r][c] == 'H':\n",
    "            reward = -1\n",
    "            done = True\n",
    "        elif self.grid[r][c] == 'G':\n",
    "            reward = 1\n",
    "            done = True\n",
    "\n",
    "        return self.to_observation(self.state), reward, done, {}\n",
    "\n",
    "    def to_observation(self, state):\n",
    "        return state[0] * self.grid_size + state[1]\n",
    "\n",
    "    def render(self):\n",
    "        grid = np.full((self.grid_size, self.grid_size), ' ')\n",
    "        for r in range(self.grid_size):\n",
    "            for c in range(self.grid_size):\n",
    "                grid[r, c] = self.grid[r][c]\n",
    "        r, c = self.state\n",
    "        grid[r, c] = 'A'\n",
    "        print('\\n'.join(' '.join(row) for row in grid))\n",
    "        print()\n",
    "\n",
    "def make_frozenlake(grid):\n",
    "    return FrozenLakeEnv(grid)\n"
   ]
  },
  {
   "cell_type": "code",
   "execution_count": 2,
   "metadata": {},
   "outputs": [
    {
     "ename": "NameError",
     "evalue": "name 'make_frozenlake' is not defined",
     "output_type": "error",
     "traceback": [
      "\u001b[1;31m---------------------------------------------------------------------------\u001b[0m",
      "\u001b[1;31mNameError\u001b[0m                                 Traceback (most recent call last)",
      "\u001b[1;32m<ipython-input-2-588c2a1657d2>\u001b[0m in \u001b[0;36m<module>\u001b[1;34m\u001b[0m\n\u001b[0;32m     27\u001b[0m ]\n\u001b[0;32m     28\u001b[0m \u001b[1;33m\u001b[0m\u001b[0m\n\u001b[1;32m---> 29\u001b[1;33m \u001b[0menv\u001b[0m \u001b[1;33m=\u001b[0m \u001b[0mmake_frozenlake\u001b[0m\u001b[1;33m(\u001b[0m\u001b[0msafe_3x3_grid\u001b[0m\u001b[1;33m)\u001b[0m\u001b[1;33m\u001b[0m\u001b[1;33m\u001b[0m\u001b[0m\n\u001b[0m\u001b[0;32m     30\u001b[0m \u001b[1;33m\u001b[0m\u001b[0m\n\u001b[0;32m     31\u001b[0m \u001b[0menv\u001b[0m\u001b[1;33m.\u001b[0m\u001b[0mreset\u001b[0m\u001b[1;33m(\u001b[0m\u001b[1;33m)\u001b[0m\u001b[1;33m\u001b[0m\u001b[1;33m\u001b[0m\u001b[0m\n",
      "\u001b[1;31mNameError\u001b[0m: name 'make_frozenlake' is not defined"
     ]
    }
   ],
   "source": [
    "safe_3x3_grid = [\n",
    "    ['S', 'F', 'F'],\n",
    "    ['F', 'H', 'F'],\n",
    "    ['F', 'F', 'G']\n",
    "]\n",
    "\n",
    "unsafe_3x3_grid = [\n",
    "    ['S', 'H', 'F'],\n",
    "    ['F', 'F', 'H'],\n",
    "    ['F', 'H', 'G']\n",
    "]\n",
    "\n",
    "safe_5x5_grid = [\n",
    "    ['S', 'F', 'F', 'F', 'F'],\n",
    "    ['F', 'F', 'F', 'H', 'F'],\n",
    "    ['F', 'H', 'F', 'F', 'F'],\n",
    "    ['F', 'F', 'H', 'F', 'H'],\n",
    "    ['F', 'F', 'F', 'F', 'G']\n",
    "]\n",
    "\n",
    "unsafe_5x5_grid = [\n",
    "    ['S', 'F', 'H', 'F', 'H'],\n",
    "    ['H', 'H', 'F', 'H', 'F'],\n",
    "    ['F', 'H', 'H', 'F', 'H'],\n",
    "    ['H', 'F', 'H', 'H', 'F'],\n",
    "    ['F', 'H', 'F', 'H', 'G']\n",
    "]\n",
    "\n",
    "env = make_frozenlake(safe_3x3_grid)\n",
    "\n",
    "env.reset()\n",
    "env.render()\n",
    "\n",
    "done = False\n",
    "while not done:\n",
    "    action = env.action_space.sample()  \n",
    "    _, _, done, _ = env.step(action)\n",
    "    env.render()\n"
   ]
  },
  {
   "cell_type": "code",
   "execution_count": null,
   "metadata": {},
   "outputs": [],
   "source": []
  }
 ],
 "metadata": {
  "kernelspec": {
   "display_name": "Python 3",
   "language": "python",
   "name": "python3"
  },
  "language_info": {
   "codemirror_mode": {
    "name": "ipython",
    "version": 3
   },
   "file_extension": ".py",
   "mimetype": "text/x-python",
   "name": "python",
   "nbconvert_exporter": "python",
   "pygments_lexer": "ipython3",
   "version": "3.8.5"
  }
 },
 "nbformat": 4,
 "nbformat_minor": 2
}
